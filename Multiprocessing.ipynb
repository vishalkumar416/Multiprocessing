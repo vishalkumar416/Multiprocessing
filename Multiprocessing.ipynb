{
 "cells": [
  {
   "cell_type": "code",
   "execution_count": 1,
   "id": "cd7291b5-c7a4-4907-a517-119555ce4338",
   "metadata": {},
   "outputs": [],
   "source": [
    "# Multiprocessing in Python is a technique used to run multiple processes simultaneously, leveraging multiple CPU cores to perform tasks in parallel. Unlike multithreading, which has limitations due to Python's Global Interpreter Lock (GIL), multiprocessing sidesteps these issues by creating separate memory spaces for each process.\n",
    "# Its uses :\n",
    "# 1) Performance Improvement: It can significantly improve performance for CPU-bound tasks by distributing the workload across multiple processors or cores.\n",
    "# 2) Avoiding GIL Limitations: Since each process has its own Python interpreter and memory space, they are not restricted by the GIL, making multiprocessing ideal for tasks that need true parallelism.\n",
    "# 3) Handling Concurrent Tasks: Multiprocessing is useful for running concurrent tasks that are independent of each other, like data processing, web scraping, or simulations.\n",
    "from multiprocessing import Process\n",
    "def worker(num):\n",
    "    print(f'Worker: {num}')\n",
    "\n",
    "if __name__ == '__main__':\n",
    "    processes = []\n",
    "    for i in range(5):\n",
    "        p = Process(target=worker, args=(i,))\n",
    "        p.start()\n",
    "        processes.append(p)\n",
    "\n",
    "    for p in processes:\n",
    "        p.join()\n"
   ]
  },
  {
   "cell_type": "code",
   "execution_count": 2,
   "id": "a0bee605-0c9f-4814-a166-a796ef181752",
   "metadata": {},
   "outputs": [],
   "source": [
    "# Use multiprocessing for CPU-bound tasks where you need true parallelism and can benefit from using multiple CPU cores.\n",
    "# Use multithreading for I/O-bound tasks or when you need to manage multiple tasks concurrently within a single process. "
   ]
  },
  {
   "cell_type": "code",
   "execution_count": 3,
   "id": "97d2d41c-7c92-4d46-add4-c3dd19cecfd3",
   "metadata": {},
   "outputs": [
    {
     "name": "stdout",
     "output_type": "stream",
     "text": [
      "Hello from Vishal Kumar!\n"
     ]
    }
   ],
   "source": [
    "from multiprocessing import Process\n",
    "\n",
    "def print_message():\n",
    "    print(\"Hello from the child process!\")\n",
    "\n",
    "if __name__ == '__main__':\n",
    "    # Create a new Process object\n",
    "    process = Process(target=print_message)\n",
    "    process.start()\n",
    "    process.join()\n",
    "    \n",
    "    print(\"Hello from Vishal Kumar!\")\n"
   ]
  },
  {
   "cell_type": "code",
   "execution_count": null,
   "id": "8f4e7432-4096-404c-beb0-79bf626757c6",
   "metadata": {},
   "outputs": [],
   "source": [
    "# A multiprocessing pool in Python is a feature provided by the multiprocessing module that allows you to manage a pool of worker processes. This pool can execute multiple tasks in parallel, making it easier to leverage multi-core processors for parallel execution.\n",
    "# Use of Multiprocessing Pool\n",
    "# 1) Performance Boost: By running tasks in parallel, you can significantly reduce the time taken to complete CPU-bound operations.\n",
    "# 2) Efficient Resource Usage: Pools manage the worker processes efficiently, ensuring that your system's resources are used effectively without overwhelming it.\n",
    "# 3) Simplified Code: Using a pool abstracts away the complexity of managing individual processes, making your code cleaner and easier to maintain.\n"
   ]
  },
  {
   "cell_type": "code",
   "execution_count": null,
   "id": "db8cefae-0227-471d-8f39-1a862d2e4100",
   "metadata": {},
   "outputs": [],
   "source": [
    "from multiprocessing import Pool\n",
    "def square(x):\n",
    "    return x * x\n",
    "if __name__ == \"__main__\":\n",
    "    with Pool(4) as p:\n",
    "        result = p.map(square, [1, 2, 3, 4, 5])\n",
    "    print(result)"
   ]
  },
  {
   "cell_type": "code",
   "execution_count": null,
   "id": "7143344c-1311-44db-927f-ac16c17f114c",
   "metadata": {},
   "outputs": [],
   "source": [
    "import multiprocessing\n",
    "\n",
    "def print_number(number):\n",
    "    print(f\"Process ID: {multiprocessing.current_process().pid}, Number: {number}\")\n",
    "\n",
    "if __name__ == \"__main__\":\n",
    "    # List of numbers to print\n",
    "    numbers = [1, 2, 3, 4]\n",
    "\n",
    "    # Create a list to hold the processes\n",
    "    processes = []\n",
    "\n",
    "    # Create and start a process for each number\n",
    "    for number in numbers:\n",
    "        process = multiprocessing.Process(target=print_number, args=(number,))\n",
    "        processes.append(process)\n",
    "        process.start()\n",
    "\n",
    "    # Ensure all processes have finished\n",
    "    for process in processes:\n",
    "        process.join()\n"
   ]
  },
  {
   "cell_type": "code",
   "execution_count": null,
   "id": "874b70d2-0024-4856-a68f-f302e6542bf0",
   "metadata": {},
   "outputs": [],
   "source": []
  }
 ],
 "metadata": {
  "kernelspec": {
   "display_name": "Python 3 (ipykernel)",
   "language": "python",
   "name": "python3"
  },
  "language_info": {
   "codemirror_mode": {
    "name": "ipython",
    "version": 3
   },
   "file_extension": ".py",
   "mimetype": "text/x-python",
   "name": "python",
   "nbconvert_exporter": "python",
   "pygments_lexer": "ipython3",
   "version": "3.11.7"
  }
 },
 "nbformat": 4,
 "nbformat_minor": 5
}
